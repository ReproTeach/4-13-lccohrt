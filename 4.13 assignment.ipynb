{
 "cells": [
  {
   "cell_type": "code",
   "execution_count": 3,
   "id": "79bcfd32-46b4-41d7-8f76-ca6e195597dd",
   "metadata": {
    "tags": []
   },
   "outputs": [
    {
     "name": "stdout",
     "output_type": "stream",
     "text": [
      "0 7 1\n",
      "7\n",
      "1 1 9\n",
      "7\n",
      "2 9 3\n",
      "9\n",
      "3 3 5\n",
      "9\n",
      "4 5 7\n",
      "9\n"
     ]
    },
    {
     "data": {
      "text/plain": [
       "9"
      ]
     },
     "execution_count": 3,
     "metadata": {},
     "output_type": "execute_result"
    }
   ],
   "source": [
    "def get_max(a_list):\n",
    "    for i in range(len(a_list)):\n",
    "        previous_el = a_list[i-1]\n",
    "        current_el = a_list[i]\n",
    "        print(i, previous_el, current_el)\n",
    "        if previous_el >= current_el:\n",
    "              max_el = previous_el\n",
    "        else:\n",
    "              max_el2 = current_el\n",
    "        print(max_el)\n",
    "    return max_el\n",
    "    return max_el2\n",
    "\n",
    "a_list = [1, 9, 3, 5, 7]\n",
    "\n",
    "get_max(a_list)"
   ]
  },
  {
   "cell_type": "code",
   "execution_count": 7,
   "id": "29d73224-e776-4b64-97e9-bb82e1f24487",
   "metadata": {
    "tags": []
   },
   "outputs": [
    {
     "name": "stdout",
     "output_type": "stream",
     "text": [
      "0 12 2\n",
      "12\n",
      "1 2 6\n",
      "12\n",
      "2 6 25\n",
      "12\n",
      "3 25 30\n",
      "12\n",
      "4 30 40\n",
      "12\n",
      "5 40 10\n",
      "40\n",
      "6 10 12\n",
      "40\n"
     ]
    },
    {
     "data": {
      "text/plain": [
       "40"
      ]
     },
     "execution_count": 7,
     "metadata": {},
     "output_type": "execute_result"
    }
   ],
   "source": [
    "b_list = [2, 6, 25, 30, 40, 10, 12]\n",
    "\n",
    "get_max(b_list)"
   ]
  },
  {
   "cell_type": "markdown",
   "id": "a054901e-6df6-42b6-8e7d-e4e5fe88cd40",
   "metadata": {},
   "source": [
    "Since the issue was that the formula we had in class overwrote the old greater number with the new, I gave the two different names in the code. I then tested it again with different numbers and it still works! :)"
   ]
  }
 ],
 "metadata": {
  "kernelspec": {
   "display_name": "Python 3 (ipykernel)",
   "language": "python",
   "name": "python3"
  },
  "language_info": {
   "codemirror_mode": {
    "name": "ipython",
    "version": 3
   },
   "file_extension": ".py",
   "mimetype": "text/x-python",
   "name": "python",
   "nbconvert_exporter": "python",
   "pygments_lexer": "ipython3",
   "version": "3.10.9"
  }
 },
 "nbformat": 4,
 "nbformat_minor": 5
}
